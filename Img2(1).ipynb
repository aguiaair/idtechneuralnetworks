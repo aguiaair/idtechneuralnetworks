{
 "cells": [
  {
   "cell_type": "code",
   "execution_count": 4,
   "metadata": {
    "colab": {
     "autoexec": {
      "startup": false,
      "wait_interval": 0
     }
    },
    "colab_type": "code",
    "id": "gbckDgDUONJS"
   },
   "outputs": [],
   "source": [
    "import tensorflow as tf\n",
    "import numpy as np\n",
    "import matplotlib.pyplot as plt\n",
    "from sklearn.datasets import load_sample_image\n",
    "import cv2\n",
    "\n",
    "#config = tf.ConfigProto()\n",
    "#config.gpu_options.allow_growth = True\n",
    "\n",
    "img0= load_sample_image(\"flower.jpg\")\n",
    "img0a =np.array([img0], dtype=np.float32)\n",
    "h,w,ch=img0.shape\n",
    "\n",
    "#Assigns a space for future use\n",
    "x = tf.placeholder(dtype=tf.float32, shape=(None,h,w,ch))\n",
    "\n",
    "#First convolutionary layer, it attempts to find patterns\n",
    "conv0=tf.layers.conv2d(x, filters=100, kernel_size=[1, 1],activation=tf.nn.relu)\n",
    "\n",
    "#First pool layer, averages the imgae, lowers res\n",
    "pool0=tf.layers.max_pooling2d(conv0,pool_size=[2, 2],strides=2)\n",
    "\n",
    "#Second convolutionary layer, attemps to find even more patterns\n",
    "conv1=tf.layers.conv2d(pool0, filters=100, kernel_size=[1, 1],activation=tf.nn.relu)\n",
    "\n",
    "#second pool layer, averages the imgae, lowers res\n",
    "pool1=tf.layers.max_pooling2d(conv1,pool_size=[2, 2],strides=2)\n",
    "\n",
    "#First flat layer, Compresses everything into an array\n",
    "flat0=tf.layers.flatten(pool1)\n",
    "\n",
    "#First dense layer, decides tha final classification of the image\n",
    "dense0=tf.layers.dense(flat0,1024,activation=tf.nn.relu)\n",
    "\n",
    "\n",
    "drop0=tf.layers.dropout(dense0,rate=0.4,training=True)\n",
    "\n",
    "out0=tf.layers.dense(drop0,10)"
   ]
  },
  {
   "cell_type": "code",
   "execution_count": 5,
   "metadata": {
    "colab": {
     "autoexec": {
      "startup": false,
      "wait_interval": 0
     }
    },
    "colab_type": "code",
    "id": "9-XbZWNdPCgO"
   },
   "outputs": [
    {
     "data": {
      "image/png": "[encoded data removed]",
      "text/plain": [
       "<matplotlib.figure.Figure at 0x7f1a5e57ccc0>"
      ]
     },
     "metadata": {},
     "output_type": "display_data"
    }
   ],
   "source": [
    "\n",
    "img0 =cv2.imread('/home/student/Desktop/00002.png')\n",
    "img0 =cv2.cvtColor(img0,cv2.COLOR_BGR2RGB)\n",
    "img0a =np.array([img0], dtype=np.float32)\n",
    "h,w,ch=img0.shape\n",
    "plt.imshow(img0)\n",
    "plt.show()\n"
   ]
  },
  {
   "cell_type": "code",
   "execution_count": null,
   "metadata": {
    "collapsed": true
   },
   "outputs": [],
   "source": []
  }
 ],
 "metadata": {
  "colab": {
   "default_view": {},
   "name": "Untitled2.ipynb",
   "provenance": [],
   "version": "0.3.2",
   "views": {}
  },
  "kernelspec": {
   "display_name": "Python 3",
   "language": "python",
   "name": "python3"
  },
  "language_info": {
   "codemirror_mode": {
    "name": "ipython",
    "version": 3
   },
   "file_extension": ".py",
   "mimetype": "text/x-python",
   "name": "python",
   "nbconvert_exporter": "python",
   "pygments_lexer": "ipython3",
   "version": "3.6.3"
  }
 },
 "nbformat": 4,
 "nbformat_minor": 1
}
